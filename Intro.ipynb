{
 "cells": [
  {
   "cell_type": "code",
   "execution_count": null,
   "id": "755157cc",
   "metadata": {},
   "outputs": [
    {
     "ename": "",
     "evalue": "",
     "output_type": "error",
     "traceback": [
      "\u001b[1;31mRunning cells with 'traffic-env (Python 3.11.2)' requires the ipykernel package.\n",
      "\u001b[1;31mInstall 'ipykernel' into the Python environment. \n",
      "\u001b[1;31mCommand: '/home/jrawlins21/traffic-env/bin/python -m pip install ipykernel -U --force-reinstall'"
     ]
    }
   ],
   "source": [
    "import deeplake\n",
    "import pandas as pd\n",
    "import numpy as np\n",
    "import tensorflow as tf\n",
    "from tensorflow.keras.utils import to_categorical\n",
    "from sklearn.model_selection import train_test_split\n",
    "from tensorflow.keras.layers import Dense, Flatten, Conv2D, MaxPooling2D\n",
    "from tensorflow.models import Sequential\n",
    "\n",
    "ds = deeplake.load(\"hub://activeloop/vehicles-openimages\")\n",
    "label_map = {\n",
    "    'Sedan': 'car',\n",
    "    'Coupe': 'car',\n",
    "    'Convertible': 'car',\n",
    "    'Hatchback': 'car',\n",
    "    'SUV': 'SUV',\n",
    "    'Pickup': 'truck',\n",
    "    'Van': 'van',\n",
    "    'Bus': 'bus',\n",
    "    'Trailer': 'semi-truck',\n",
    "    'Tractor-trailer': 'semi-truck',\n",
    "    'Motorcycle': 'motorcycle',\n",
    "}\n",
    "\n",
    "\n",
    "        "
   ]
  },
  {
   "cell_type": "code",
   "execution_count": null,
   "id": "61448eef",
   "metadata": {},
   "outputs": [],
   "source": [
    "def map_labels(sample):\n",
    "    new_labels = []\n",
    "    for label in sample['labels'].np():\n",
    "        readable_label = label.decode('utf-8') if isinstance(label, bytes) else label\n",
    "        if readable_label in label_map:\n",
    "            new_labels.append(label_map[readable_label])\n",
    "    return new_labels\n",
    "\n",
    "processed_images = []\n",
    "processed_labels = []\n",
    "\n",
    "for sample in ds:\n",
    "    labels = map_labels(sample)\n",
    "    if labels:\n",
    "        img = sample['images'].np()\n",
    "        img_resized = tf.image.resize(img, (96,96)).np()\n",
    "        processed_images.append(img_resized)\n",
    "        processed_labels.append(labels[0])\n",
    "\n",
    "class_names = sorted(set(label_map.values()))\n",
    "label_to_index = {name: index for index, name in enumerate(class_names)}\n",
    "y = [label_to_index[label] for label in processed_labels]\n",
    "X = np.array(processed_images)/ 255.0\n",
    "\n",
    "\n",
    "y = to_categorical(y, num_classes=len(class_names))"
   ]
  },
  {
   "cell_type": "code",
   "execution_count": null,
   "id": "86b8feb9",
   "metadata": {},
   "outputs": [],
   "source": [
    "\n",
    "X_train, X_test, y_train, y_test = train_test_split(X, y, test_size=0.2, random_state=42)\n",
    "model = Sequential([\n",
    "    Conv2D(filters=32, kernel_size=(3, 3), activation='relu', input_shape=(96, 96, 3)),\n",
    "    MaxPooling2D(pool_size=(2, 2)),\n",
    "\n",
    "    Conv2D(filters=64, kernel_size=(3, 3), activation='relu'),\n",
    "    MaxPooling2D(pool_size=(2, 2)),\n",
    "\n",
    "    Flatten(),\n",
    "    Dense(128, activation='relu'),\n",
    "    Dense(len(class_names), activation='softmax')\n",
    "])"
   ]
  },
  {
   "cell_type": "code",
   "execution_count": null,
   "id": "cbcb9970",
   "metadata": {},
   "outputs": [],
   "source": []
  }
 ],
 "metadata": {
  "kernelspec": {
   "display_name": "traffic-env",
   "language": "python",
   "name": "python3"
  },
  "language_info": {
   "name": "python",
   "version": "3.11.2"
  }
 },
 "nbformat": 4,
 "nbformat_minor": 5
}
